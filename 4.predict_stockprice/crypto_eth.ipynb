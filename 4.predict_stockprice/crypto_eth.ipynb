{
 "cells": [
  {
   "cell_type": "code",
   "execution_count": 23,
   "metadata": {},
   "outputs": [],
   "source": [
    "import pandas as pd\n",
    "import numpy as np\n",
    "import matplotlib.pyplot as plt\n",
    "from keras.models import Sequential\n",
    "from keras.layers import LSTM, Dropout, Dense, Activation\n",
    "from keras.callbacks import TensorBoard, ModelCheckpoint, ReduceLROnPlateau\n",
    "import datetime"
   ]
  },
  {
   "cell_type": "code",
   "execution_count": 24,
   "metadata": {},
   "outputs": [
    {
     "data": {
      "text/html": [
       "<div>\n",
       "<style scoped>\n",
       "    .dataframe tbody tr th:only-of-type {\n",
       "        vertical-align: middle;\n",
       "    }\n",
       "\n",
       "    .dataframe tbody tr th {\n",
       "        vertical-align: top;\n",
       "    }\n",
       "\n",
       "    .dataframe thead th {\n",
       "        text-align: right;\n",
       "    }\n",
       "</style>\n",
       "<table border=\"1\" class=\"dataframe\">\n",
       "  <thead>\n",
       "    <tr style=\"text-align: right;\">\n",
       "      <th></th>\n",
       "      <th>Date</th>\n",
       "      <th>Open</th>\n",
       "      <th>High</th>\n",
       "      <th>Low</th>\n",
       "      <th>Close</th>\n",
       "      <th>Volume</th>\n",
       "      <th>Market Cap</th>\n",
       "    </tr>\n",
       "  </thead>\n",
       "  <tbody>\n",
       "    <tr>\n",
       "      <th>0</th>\n",
       "      <td>31.Oct.17</td>\n",
       "      <td>307.38</td>\n",
       "      <td>310.55</td>\n",
       "      <td>305.88</td>\n",
       "      <td>305.88</td>\n",
       "      <td>369,583,008.00</td>\n",
       "      <td>29,331,517,440.00</td>\n",
       "    </tr>\n",
       "    <tr>\n",
       "      <th>1</th>\n",
       "      <td>1.Nov.17</td>\n",
       "      <td>305.76</td>\n",
       "      <td>306.40</td>\n",
       "      <td>290.58</td>\n",
       "      <td>291.69</td>\n",
       "      <td>553,864,000.00</td>\n",
       "      <td>29,183,592,448.00</td>\n",
       "    </tr>\n",
       "    <tr>\n",
       "      <th>2</th>\n",
       "      <td>2.Nov.17</td>\n",
       "      <td>290.73</td>\n",
       "      <td>293.91</td>\n",
       "      <td>281.17</td>\n",
       "      <td>287.43</td>\n",
       "      <td>904,900,992.00</td>\n",
       "      <td>27,754,237,952.00</td>\n",
       "    </tr>\n",
       "    <tr>\n",
       "      <th>3</th>\n",
       "      <td>3.Nov.17</td>\n",
       "      <td>288.50</td>\n",
       "      <td>308.31</td>\n",
       "      <td>287.69</td>\n",
       "      <td>305.71</td>\n",
       "      <td>646,339,968.00</td>\n",
       "      <td>27,547,410,432.00</td>\n",
       "    </tr>\n",
       "    <tr>\n",
       "      <th>4</th>\n",
       "      <td>4.Nov.17</td>\n",
       "      <td>305.48</td>\n",
       "      <td>305.48</td>\n",
       "      <td>295.80</td>\n",
       "      <td>300.47</td>\n",
       "      <td>416,479,008.00</td>\n",
       "      <td>29,175,347,200.00</td>\n",
       "    </tr>\n",
       "  </tbody>\n",
       "</table>\n",
       "</div>"
      ],
      "text/plain": [
       "        Date    Open    High     Low   Close          Volume  \\\n",
       "0  31.Oct.17  307.38  310.55  305.88  305.88  369,583,008.00   \n",
       "1   1.Nov.17  305.76  306.40  290.58  291.69  553,864,000.00   \n",
       "2   2.Nov.17  290.73  293.91  281.17  287.43  904,900,992.00   \n",
       "3   3.Nov.17  288.50  308.31  287.69  305.71  646,339,968.00   \n",
       "4   4.Nov.17  305.48  305.48  295.80  300.47  416,479,008.00   \n",
       "\n",
       "          Market Cap  \n",
       "0  29,331,517,440.00  \n",
       "1  29,183,592,448.00  \n",
       "2  27,754,237,952.00  \n",
       "3  27,547,410,432.00  \n",
       "4  29,175,347,200.00  "
      ]
     },
     "execution_count": 24,
     "metadata": {},
     "output_type": "execute_result"
    }
   ],
   "source": [
    "data = pd.read_csv('dataset/eth.csv')\n",
    "data.head()"
   ]
  },
  {
   "cell_type": "code",
   "execution_count": 25,
   "metadata": {},
   "outputs": [],
   "source": [
    "high_prices = data['High'].values\n",
    "low_prices = data['Low'].values\n",
    "mid_prices = (high_prices + low_prices) / 2"
   ]
  },
  {
   "cell_type": "code",
   "execution_count": 26,
   "metadata": {},
   "outputs": [],
   "source": [
    "seq_len = 50\n",
    "sequence_length = seq_len + 1\n",
    "\n",
    "result = []\n",
    "for index in range(len(mid_prices) - sequence_length):\n",
    "    result.append(mid_prices[index: index + sequence_length])"
   ]
  },
  {
   "cell_type": "code",
   "execution_count": 27,
   "metadata": {
    "scrolled": true
   },
   "outputs": [
    {
     "data": {
      "text/plain": [
       "((283, 50, 1), (31, 50, 1))"
      ]
     },
     "execution_count": 27,
     "metadata": {},
     "output_type": "execute_result"
    }
   ],
   "source": [
    "def normalize_windows(data):\n",
    "    normalized_data = []\n",
    "    for window in data:\n",
    "        normalized_window = [((float(p) / float(window[0])) - 1) for p in window]\n",
    "        normalized_data.append(normalized_window)\n",
    "    return np.array(normalized_data)\n",
    "\n",
    "result = normalize_windows(result)\n",
    "\n",
    "# split train and test data\n",
    "row = int(round(result.shape[0] * 0.9))\n",
    "train = result[:row, :]\n",
    "np.random.shuffle(train)\n",
    "\n",
    "x_train = train[:, :-1]\n",
    "x_train = np.reshape(x_train, (x_train.shape[0], x_train.shape[1], 1))\n",
    "y_train = train[:, -1]\n",
    "\n",
    "x_test = result[row:, :-1]\n",
    "x_test = np.reshape(x_test, (x_test.shape[0], x_test.shape[1], 1))\n",
    "y_test = result[row:, -1]\n",
    "\n",
    "x_train.shape, x_test.shape"
   ]
  },
  {
   "cell_type": "code",
   "execution_count": 28,
   "metadata": {},
   "outputs": [
    {
     "name": "stdout",
     "output_type": "stream",
     "text": [
      "_________________________________________________________________\n",
      "Layer (type)                 Output Shape              Param #   \n",
      "=================================================================\n",
      "lstm_3 (LSTM)                (None, 50, 50)            10400     \n",
      "_________________________________________________________________\n",
      "lstm_4 (LSTM)                (None, 64)                29440     \n",
      "_________________________________________________________________\n",
      "dense_2 (Dense)              (None, 1)                 65        \n",
      "=================================================================\n",
      "Total params: 39,905\n",
      "Trainable params: 39,905\n",
      "Non-trainable params: 0\n",
      "_________________________________________________________________\n"
     ]
    }
   ],
   "source": [
    "model = Sequential()\n",
    "\n",
    "model.add(LSTM(50, return_sequences=True, input_shape=(50, 1)))\n",
    "\n",
    "model.add(LSTM(64, return_sequences=False))\n",
    "\n",
    "model.add(Dense(1, activation='linear'))\n",
    "\n",
    "model.compile(loss='mse', optimizer='rmsprop')\n",
    "\n",
    "model.summary()"
   ]
  },
  {
   "cell_type": "code",
   "execution_count": 29,
   "metadata": {
    "scrolled": true
   },
   "outputs": [
    {
     "name": "stdout",
     "output_type": "stream",
     "text": [
      "Train on 283 samples, validate on 31 samples\n",
      "Epoch 1/20\n",
      "283/283 [==============================] - 3s 12ms/step - loss: 0.0984 - val_loss: 0.0010\n",
      "\n",
      "Epoch 00001: val_loss improved from inf to 0.00102, saving model to ./models/2018_10_31_21_41_26_eth.h5\n",
      "Epoch 2/20\n",
      "283/283 [==============================] - 3s 10ms/step - loss: 0.0466 - val_loss: 0.0012\n",
      "\n",
      "Epoch 00002: val_loss did not improve from 0.00102\n",
      "Epoch 3/20\n",
      "283/283 [==============================] - 4s 14ms/step - loss: 0.0377 - val_loss: 0.0019\n",
      "\n",
      "Epoch 00003: val_loss did not improve from 0.00102\n",
      "Epoch 4/20\n",
      "283/283 [==============================] - 5s 17ms/step - loss: 0.0396 - val_loss: 7.9362e-04\n",
      "\n",
      "Epoch 00004: val_loss improved from 0.00102 to 0.00079, saving model to ./models/2018_10_31_21_41_26_eth.h5\n",
      "Epoch 5/20\n",
      "283/283 [==============================] - 5s 18ms/step - loss: 0.0279 - val_loss: 0.0038\n",
      "\n",
      "Epoch 00005: val_loss did not improve from 0.00079\n",
      "Epoch 6/20\n",
      "283/283 [==============================] - 5s 18ms/step - loss: 0.0227 - val_loss: 0.0012\n",
      "\n",
      "Epoch 00006: val_loss did not improve from 0.00079\n",
      "Epoch 7/20\n",
      "283/283 [==============================] - 5s 19ms/step - loss: 0.0214 - val_loss: 0.0021\n",
      "\n",
      "Epoch 00007: val_loss did not improve from 0.00079\n",
      "Epoch 8/20\n",
      "283/283 [==============================] - 5s 16ms/step - loss: 0.0205 - val_loss: 7.2855e-04\n",
      "\n",
      "Epoch 00008: val_loss improved from 0.00079 to 0.00073, saving model to ./models/2018_10_31_21_41_26_eth.h5\n",
      "Epoch 9/20\n",
      "283/283 [==============================] - 3s 10ms/step - loss: 0.0191 - val_loss: 8.8453e-04\n",
      "\n",
      "Epoch 00009: val_loss did not improve from 0.00073\n",
      "\n",
      "Epoch 00009: ReduceLROnPlateau reducing learning rate to 0.00020000000949949026.\n",
      "Epoch 10/20\n",
      "283/283 [==============================] - 3s 9ms/step - loss: 0.0141 - val_loss: 0.0011\n",
      "\n",
      "Epoch 00010: val_loss did not improve from 0.00073\n",
      "Epoch 11/20\n",
      "283/283 [==============================] - 2s 9ms/step - loss: 0.0136 - val_loss: 0.0011\n",
      "\n",
      "Epoch 00011: val_loss did not improve from 0.00073\n",
      "Epoch 12/20\n",
      "283/283 [==============================] - 3s 9ms/step - loss: 0.0129 - val_loss: 0.0011\n",
      "\n",
      "Epoch 00012: val_loss did not improve from 0.00073\n",
      "Epoch 13/20\n",
      "283/283 [==============================] - 3s 9ms/step - loss: 0.0128 - val_loss: 8.5286e-04\n",
      "\n",
      "Epoch 00013: val_loss did not improve from 0.00073\n",
      "Epoch 14/20\n",
      "283/283 [==============================] - 3s 9ms/step - loss: 0.0127 - val_loss: 7.9398e-04\n",
      "\n",
      "Epoch 00014: val_loss did not improve from 0.00073\n",
      "\n",
      "Epoch 00014: ReduceLROnPlateau reducing learning rate to 4.0000001899898055e-05.\n",
      "Epoch 15/20\n",
      "283/283 [==============================] - 3s 9ms/step - loss: 0.0126 - val_loss: 9.4050e-04\n",
      "\n",
      "Epoch 00015: val_loss did not improve from 0.00073\n",
      "Epoch 16/20\n",
      "283/283 [==============================] - 3s 10ms/step - loss: 0.0122 - val_loss: 9.6500e-04\n",
      "\n",
      "Epoch 00016: val_loss did not improve from 0.00073\n",
      "Epoch 17/20\n",
      "283/283 [==============================] - 3s 10ms/step - loss: 0.0121 - val_loss: 9.9169e-04\n",
      "\n",
      "Epoch 00017: val_loss did not improve from 0.00073\n",
      "Epoch 18/20\n",
      "283/283 [==============================] - 3s 10ms/step - loss: 0.0122 - val_loss: 9.9065e-04\n",
      "\n",
      "Epoch 00018: val_loss did not improve from 0.00073\n",
      "Epoch 19/20\n",
      "283/283 [==============================] - 3s 10ms/step - loss: 0.0122 - val_loss: 0.0010\n",
      "\n",
      "Epoch 00019: val_loss did not improve from 0.00073\n",
      "\n",
      "Epoch 00019: ReduceLROnPlateau reducing learning rate to 8.000000525498762e-06.\n",
      "Epoch 20/20\n",
      "283/283 [==============================] - 3s 10ms/step - loss: 0.0119 - val_loss: 0.0010\n",
      "\n",
      "Epoch 00020: val_loss did not improve from 0.00073\n"
     ]
    },
    {
     "data": {
      "text/plain": [
       "<keras.callbacks.History at 0x1328cdba8>"
      ]
     },
     "execution_count": 29,
     "metadata": {},
     "output_type": "execute_result"
    }
   ],
   "source": [
    "start_time = datetime.datetime.now().strftime('%Y_%m_%d_%H_%M_%S')\n",
    "\n",
    "model.fit(x_train, y_train,\n",
    "    validation_data=(x_test, y_test),\n",
    "    batch_size=10,\n",
    "    epochs=20,\n",
    "    callbacks=[\n",
    "        TensorBoard(log_dir='logs/%s' % (start_time)),\n",
    "        ModelCheckpoint('./models/%s_eth.h5' % (start_time), monitor='val_loss', verbose=1, save_best_only=True, mode='auto'),\n",
    "        ReduceLROnPlateau(monitor='val_loss', factor=0.2, patience=5, verbose=1, mode='auto')\n",
    "])"
   ]
  },
  {
   "cell_type": "code",
   "execution_count": 30,
   "metadata": {},
   "outputs": [
    {
     "data": {
      "image/png": "[encoded data removed]",
      "text/plain": [
       "<Figure size 1440x720 with 1 Axes>"
      ]
     },
     "metadata": {},
     "output_type": "display_data"
    }
   ],
   "source": [
    "pred = model.predict(x_test)\n",
    "\n",
    "fig = plt.figure(facecolor='white', figsize=(20, 10))\n",
    "ax = fig.add_subplot(111)\n",
    "ax.plot(y_test, label='True')\n",
    "ax.plot(pred, label='Prediction')\n",
    "ax.legend()\n",
    "plt.show()"
   ]
  },
  {
   "cell_type": "code",
   "execution_count": null,
   "metadata": {},
   "outputs": [],
   "source": []
  }
 ],
 "metadata": {
  "kernelspec": {
   "display_name": "bdf",
   "language": "python",
   "name": "bdf"
  },
  "language_info": {
   "codemirror_mode": {
    "name": "ipython",
    "version": 3
   },
   "file_extension": ".py",
   "mimetype": "text/x-python",
   "name": "python",
   "nbconvert_exporter": "python",
   "pygments_lexer": "ipython3",
   "version": "3.5.1"
  }
 },
 "nbformat": 4,
 "nbformat_minor": 2
}
