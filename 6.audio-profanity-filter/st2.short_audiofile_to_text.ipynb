{
 "cells": [
  {
   "cell_type": "markdown",
   "id": "e8a87bbb",
   "metadata": {},
   "source": [
    "## 짧은 오디오파일(로컬)에서 동기 음성 인식 수행\n",
    "* 오디오 파일 `sound/short.mp3`로 STT를 실행한다\n",
    "* 다음과 같이 몇 가지 변경해야 한다.\n",
    "   * language_code : 한/영 설정\n",
    "   * sample_rate_hertz : 음성 정보를 확인하여 Hz를 적어야 함\n",
    "   * RecognitionConfig.AudioEncoding.ENCODING_UNSPECIFIED : mp3 파일 encoding"
   ]
  },
  {
   "cell_type": "code",
   "execution_count": 5,
   "id": "58f94efc",
   "metadata": {},
   "outputs": [],
   "source": [
    "def transcribe_file(speech_file):\n",
    "    \"\"\"Transcribe the given audio file.\"\"\"\n",
    "    from google.cloud import speech\n",
    "    import io\n",
    "\n",
    "    language_code = \"ko-KR\"\n",
    "    client = speech.SpeechClient()\n",
    "\n",
    "    with io.open(speech_file, \"rb\") as audio_file:\n",
    "        content = audio_file.read()\n",
    "\n",
    "    audio = speech.RecognitionAudio(content=content)\n",
    "    config = speech.RecognitionConfig(\n",
    "        encoding=speech.RecognitionConfig.AudioEncoding.ENCODING_UNSPECIFIED,\n",
    "        sample_rate_hertz=44100,\n",
    "        language_code=language_code,\n",
    "    )\n",
    "\n",
    "    response = client.recognize(config=config, audio=audio)\n",
    "\n",
    "    # Each result is for a consecutive portion of the audio. Iterate through\n",
    "    # them to get the transcripts for the entire audio file.\n",
    "    for result in response.results:\n",
    "        # The first alternative is the most likely one for this portion.\n",
    "        print(u\"Transcript: {}\".format(result.alternatives[0].transcript))\n"
   ]
  },
  {
   "cell_type": "code",
   "execution_count": 6,
   "id": "00f194cb",
   "metadata": {},
   "outputs": [
    {
     "name": "stdout",
     "output_type": "stream",
     "text": [
      "Transcript: 일어나이 씨발놈아 개새끼야 야이 개 같은 년아 씨발년아 씨발년아\n"
     ]
    }
   ],
   "source": [
    "audio_f = 'sound/short.mp3'\n",
    "transcribe_file(audio_f)"
   ]
  },
  {
   "cell_type": "code",
   "execution_count": null,
   "id": "bc06d5d6",
   "metadata": {},
   "outputs": [],
   "source": []
  }
 ],
 "metadata": {
  "kernelspec": {
   "display_name": "Python 3 (ipykernel)",
   "language": "python",
   "name": "python3"
  },
  "language_info": {
   "codemirror_mode": {
    "name": "ipython",
    "version": 3
   },
   "file_extension": ".py",
   "mimetype": "text/x-python",
   "name": "python",
   "nbconvert_exporter": "python",
   "pygments_lexer": "ipython3",
   "version": "3.8.10"
  }
 },
 "nbformat": 4,
 "nbformat_minor": 5
}
