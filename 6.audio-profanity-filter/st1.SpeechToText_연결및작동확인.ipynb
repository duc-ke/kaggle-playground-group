{
 "cells": [
  {
   "cell_type": "markdown",
   "id": "2254a19f",
   "metadata": {},
   "source": [
    "## STT 연결 및 동작확인\n",
    "* 빠른시작 페이지를 참고하여 API활성화 후 다음 코드를 실행한다\n",
    "  * [GoogleCloud-빠른시작](https://cloud.google.com/speech-to-text/docs/quickstart-client-libraries#client-libraries-usage-python)\n",
    "  * 과정 요약\n",
    "     1. GC에서 프로젝트 생성\n",
    "     1. 프로젝트 결제 사용 설정(신용카드 등록) - 60분 이내 무료\n",
    "     1. 프로젝트내에 서비스 계정 생성, JSON key 생성 및 다운로드\n",
    "     1. 로컬 컴퓨터에 JSON key 환경변수 등록\n",
    "     1. Cloud Speech to Text API 활성화 설정 [링크](https://console.developers.google.com/apis/library/speech.googleapis.com)\n",
    "     1. python library 설치 `pip install --upgrade google-cloud-speech`\n",
    "* 아래를 실행했을 때, `Transcript: how old is the Brooklyn Bridge` 문장이 뜨면 동작확인 완료.\n",
    "     "
   ]
  },
  {
   "cell_type": "code",
   "execution_count": 1,
   "id": "5ae17955",
   "metadata": {},
   "outputs": [
    {
     "name": "stdout",
     "output_type": "stream",
     "text": [
      "Transcript: how old is the Brooklyn Bridge\n"
     ]
    }
   ],
   "source": [
    "# Imports the Google Cloud client library\n",
    "from google.cloud import speech\n",
    "\n",
    "# Instantiates a client\n",
    "client = speech.SpeechClient()\n",
    "\n",
    "# The name of the audio file to transcribe\n",
    "gcs_uri = \"gs://cloud-samples-data/speech/brooklyn_bridge.raw\"\n",
    "\n",
    "audio = speech.RecognitionAudio(uri=gcs_uri)\n",
    "\n",
    "config = speech.RecognitionConfig(\n",
    "    encoding=speech.RecognitionConfig.AudioEncoding.LINEAR16,\n",
    "    sample_rate_hertz=16000,\n",
    "    language_code=\"en-US\",\n",
    ")\n",
    "\n",
    "# Detects speech in the audio file\n",
    "response = client.recognize(config=config, audio=audio)\n",
    "\n",
    "for result in response.results:\n",
    "    print(\"Transcript: {}\".format(result.alternatives[0].transcript))"
   ]
  },
  {
   "cell_type": "code",
   "execution_count": null,
   "id": "5e7fb829",
   "metadata": {},
   "outputs": [],
   "source": []
  }
 ],
 "metadata": {
  "kernelspec": {
   "display_name": "Python 3 (ipykernel)",
   "language": "python",
   "name": "python3"
  },
  "language_info": {
   "codemirror_mode": {
    "name": "ipython",
    "version": 3
   },
   "file_extension": ".py",
   "mimetype": "text/x-python",
   "name": "python",
   "nbconvert_exporter": "python",
   "pygments_lexer": "ipython3",
   "version": "3.8.10"
  }
 },
 "nbformat": 4,
 "nbformat_minor": 5
}
